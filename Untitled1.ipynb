{
 "cells": [
  {
   "cell_type": "markdown",
   "id": "6881d925",
   "metadata": {},
   "source": [
    "# My Jupyter Notebook on IBM Watson Studio"
   ]
  },
  {
   "cell_type": "markdown",
   "id": "3011d628",
   "metadata": {},
   "source": [
    "**Shareem Rasyidi**\n",
    "\n",
    "Data Scientist"
   ]
  },
  {
   "cell_type": "markdown",
   "id": "4535d44a",
   "metadata": {},
   "source": [
    "*I am interested in data science because I have been really enjoying working with some data and getting the insight from it to learn something new. When i tried to learn data science I also get really hooked to it and decides to pursue my career more to this field. Additionally, the prospect of this field is really promising in the future so that is also a plus*"
   ]
  },
  {
   "cell_type": "markdown",
   "id": "ff4085ed",
   "metadata": {},
   "source": [
    "### The following line will try to demonstrate Python ability to generate an output, for the sake of simplicity, I will only use simple mathematic operation like 1+1"
   ]
  },
  {
   "cell_type": "code",
   "execution_count": 5,
   "id": "0a870f05",
   "metadata": {
    "scrolled": true
   },
   "outputs": [
    {
     "data": {
      "text/plain": [
       "2"
      ]
     },
     "execution_count": 5,
     "metadata": {},
     "output_type": "execute_result"
    }
   ],
   "source": [
    "1+1"
   ]
  },
  {
   "cell_type": "markdown",
   "id": "03e84129",
   "metadata": {},
   "source": [
    "***\n",
    "- Bullet List\n",
    "1. This is numbered list\n",
    "2. Testing further numbered list"
   ]
  }
 ],
 "metadata": {
  "kernelspec": {
   "display_name": "Python 3 (ipykernel)",
   "language": "python",
   "name": "python3"
  },
  "language_info": {
   "codemirror_mode": {
    "name": "ipython",
    "version": 3
   },
   "file_extension": ".py",
   "mimetype": "text/x-python",
   "name": "python",
   "nbconvert_exporter": "python",
   "pygments_lexer": "ipython3",
   "version": "3.9.13"
  }
 },
 "nbformat": 4,
 "nbformat_minor": 5
}
